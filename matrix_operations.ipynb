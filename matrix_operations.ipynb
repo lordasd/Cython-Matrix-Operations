{
 "cells": [
  {
   "cell_type": "markdown",
   "metadata": {},
   "source": [
    "# Usage Examples\n",
    "\n",
    "This notebook demonstrates how to use the matrix operations implemented in the C++ shared library and accessed via the Cython interface."
   ]
  },
  {
   "cell_type": "code",
   "execution_count": null,
   "metadata": {},
   "outputs": [],
   "source": [
    "from matrix_interface import PyMatrix as Matrix"
   ]
  },
  {
   "cell_type": "code",
   "execution_count": null,
   "metadata": {},
   "outputs": [],
   "source": [
    "def print_matrix(matrix, name):\n",
    "    print(f\"{name}:\")\n",
    "    for i in range(matrix.get_rows()):\n",
    "        for j in range(matrix.get_cols()):\n",
    "            print(matrix.get(i, j), end=' ')\n",
    "        print()\n",
    "    print()"
   ]
  },
  {
   "cell_type": "markdown",
   "metadata": {},
   "source": [
    "## Create large matrices for heavy tasking"
   ]
  },
  {
   "cell_type": "code",
   "execution_count": null,
   "metadata": {},
   "outputs": [],
   "source": [
    "# Create large matrices for heavy tasking\n",
    "size = 2  # Adjust the size for more complexity\n",
    "matrix_a = Matrix(size, size)\n",
    "matrix_b = Matrix(size, size)"
   ]
  },
  {
   "cell_type": "markdown",
   "metadata": {},
   "source": [
    "## Fill matrices with larger values"
   ]
  },
  {
   "cell_type": "code",
   "execution_count": null,
   "metadata": {},
   "outputs": [],
   "source": [
    "# Fill matrices with larger values\n",
    "matrix_a.fill(5.0)\n",
    "matrix_b.fill(10.0)"
   ]
  },
  {
   "cell_type": "markdown",
   "metadata": {},
   "source": [
    "## Perform matrix multiplication"
   ]
  },
  {
   "cell_type": "code",
   "execution_count": null,
   "metadata": {},
   "outputs": [],
   "source": [
    "# Perform matrix multiplication\n",
    "matrix_c = matrix_a.multiply(matrix_b)"
   ]
  },
  {
   "cell_type": "markdown",
   "metadata": {},
   "source": [
    "## Perform matrix addition"
   ]
  },
  {
   "cell_type": "code",
   "execution_count": null,
   "metadata": {},
   "outputs": [],
   "source": [
    "# Perform matrix addition\n",
    "matrix_d = matrix_a.add(matrix_b)"
   ]
  },
  {
   "cell_type": "markdown",
   "metadata": {},
   "source": [
    "## Perform matrix subtraction"
   ]
  },
  {
   "cell_type": "code",
   "execution_count": null,
   "metadata": {},
   "outputs": [],
   "source": [
    "# Perform matrix subtraction\n",
    "matrix_g = matrix_a.subtract(matrix_b)"
   ]
  },
  {
   "cell_type": "markdown",
   "metadata": {},
   "source": [
    "## Perform scalar multiplication"
   ]
  },
  {
   "cell_type": "code",
   "execution_count": null,
   "metadata": {},
   "outputs": [],
   "source": [
    "# Perform scalar multiplication\n",
    "matrix_e = matrix_a.scalar_multiply(2.0)"
   ]
  },
  {
   "cell_type": "markdown",
   "metadata": {},
   "source": [
    "## Perform element-wise multiplication"
   ]
  },
  {
   "cell_type": "code",
   "execution_count": null,
   "metadata": {},
   "outputs": [],
   "source": [
    "# Perform element-wise multiplication\n",
    "matrix_f = matrix_a.elementwise_multiply(matrix_b)"
   ]
  },
  {
   "cell_type": "markdown",
   "metadata": {},
   "source": [
    "## Perform matrix transposition"
   ]
  },
  {
   "cell_type": "code",
   "execution_count": null,
   "metadata": {},
   "outputs": [],
   "source": [
    "# Perform matrix transposition\n",
    "matrix_h = matrix_a.transpose()"
   ]
  },
  {
   "cell_type": "markdown",
   "metadata": {},
   "source": [
    "## Print all matrices for verification"
   ]
  },
  {
   "cell_type": "code",
   "execution_count": null,
   "metadata": {},
   "outputs": [],
   "source": [
    "# Print all matrices for verification\n",
    "print_matrix(matrix_a, \"Matrix A\")\n",
    "print_matrix(matrix_b, \"Matrix B\")\n",
    "print_matrix(matrix_c, \"Matrix C (A * B)\")\n",
    "print_matrix(matrix_d, \"Matrix D (A + B)\")\n",
    "print_matrix(matrix_g, \"Matrix G (A - B)\")\n",
    "print_matrix(matrix_e, \"Matrix E (A * 2.0)\")\n",
    "print_matrix(matrix_f, \"Matrix F (A elementwise B)\")\n",
    "print_matrix(matrix_h, \"Matrix H (A Transposed)\")"
   ]
  }
 ],
 "metadata": {
  "kernelspec": {
   "display_name": "Python 3",
   "language": "python",
   "name": "python3"
  },
  "language_info": {
   "name": "python",
   "version": "3.8.5"
  }
 },
 "nbformat": 4,
 "nbformat_minor": 5
}
